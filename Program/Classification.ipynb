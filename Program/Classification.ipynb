{
 "cells": [
  {
   "cell_type": "markdown",
   "id": "1a340ddf",
   "metadata": {
    "id": "1a340ddf"
   },
   "source": [
    "# Text Classfiication\n",
    "\n",
    "---\n",
    "\n",
    "### Index\n",
    "* [Dataset](#Dataset \"Go to Dataset\")\n",
    "* [Feature Extarction](#Feature-Extarction \"Go To Feature Extarction\")\n",
    "* [Model](#Model \"Go to Model\")\n",
    "* [Final Model](#Final-Model)"
   ]
  },
  {
   "cell_type": "code",
   "execution_count": 1,
   "id": "872cb96d",
   "metadata": {
    "id": "872cb96d"
   },
   "outputs": [],
   "source": [
    "import pandas as pd\n",
    "import numpy as np\n",
    "import matplotlib.pyplot as plt\n",
    "import nltk\n",
    "import re"
   ]
  },
  {
   "cell_type": "markdown",
   "id": "2ac709c4",
   "metadata": {
    "id": "2ac709c4"
   },
   "source": [
    "### Dataset"
   ]
  },
  {
   "cell_type": "code",
   "execution_count": 2,
   "id": "b34b853f",
   "metadata": {
    "colab": {
     "base_uri": "https://localhost:8080/",
     "height": 204
    },
    "id": "b34b853f",
    "outputId": "1a636995-eb60-42e7-bfdb-7a4bfb94c88e"
   },
   "outputs": [
    {
     "data": {
      "text/html": [
       "<div>\n",
       "<style scoped>\n",
       "    .dataframe tbody tr th:only-of-type {\n",
       "        vertical-align: middle;\n",
       "    }\n",
       "\n",
       "    .dataframe tbody tr th {\n",
       "        vertical-align: top;\n",
       "    }\n",
       "\n",
       "    .dataframe thead th {\n",
       "        text-align: right;\n",
       "    }\n",
       "</style>\n",
       "<table border=\"1\" class=\"dataframe\">\n",
       "  <thead>\n",
       "    <tr style=\"text-align: right;\">\n",
       "      <th></th>\n",
       "      <th>PMID</th>\n",
       "      <th>TI</th>\n",
       "      <th>AB</th>\n",
       "      <th>TY</th>\n",
       "    </tr>\n",
       "  </thead>\n",
       "  <tbody>\n",
       "    <tr>\n",
       "      <th>0</th>\n",
       "      <td>28244479</td>\n",
       "      <td>Cancer and cure: A critical analysis.</td>\n",
       "      <td>Cancer is one of the most dreaded diseases of ...</td>\n",
       "      <td>CANCER</td>\n",
       "    </tr>\n",
       "    <tr>\n",
       "      <th>1</th>\n",
       "      <td>29949179</td>\n",
       "      <td>Tumor microenvironment: recent advances in var...</td>\n",
       "      <td>This is a review regarding different types of ...</td>\n",
       "      <td>CANCER</td>\n",
       "    </tr>\n",
       "    <tr>\n",
       "      <th>2</th>\n",
       "      <td>26667886</td>\n",
       "      <td>Global Cancer Incidence and Mortality Rates an...</td>\n",
       "      <td>There are limited published data on recent can...</td>\n",
       "      <td>CANCER</td>\n",
       "    </tr>\n",
       "    <tr>\n",
       "      <th>3</th>\n",
       "      <td>30713326</td>\n",
       "      <td>Recent Updates on the Relationship between Can...</td>\n",
       "      <td>Autoimmune pancreatitis (AIP) is now considere...</td>\n",
       "      <td>CANCER</td>\n",
       "    </tr>\n",
       "    <tr>\n",
       "      <th>4</th>\n",
       "      <td>31761807</td>\n",
       "      <td>What Is Cancer?</td>\n",
       "      <td>This essay focuses on themes in Explaining Can...</td>\n",
       "      <td>CANCER</td>\n",
       "    </tr>\n",
       "  </tbody>\n",
       "</table>\n",
       "</div>"
      ],
      "text/plain": [
       "       PMID                                                 TI  \\\n",
       "0  28244479              Cancer and cure: A critical analysis.   \n",
       "1  29949179  Tumor microenvironment: recent advances in var...   \n",
       "2  26667886  Global Cancer Incidence and Mortality Rates an...   \n",
       "3  30713326  Recent Updates on the Relationship between Can...   \n",
       "4  31761807                                    What Is Cancer?   \n",
       "\n",
       "                                                  AB      TY  \n",
       "0  Cancer is one of the most dreaded diseases of ...  CANCER  \n",
       "1  This is a review regarding different types of ...  CANCER  \n",
       "2  There are limited published data on recent can...  CANCER  \n",
       "3  Autoimmune pancreatitis (AIP) is now considere...  CANCER  \n",
       "4  This essay focuses on themes in Explaining Can...  CANCER  "
      ]
     },
     "execution_count": 2,
     "metadata": {},
     "output_type": "execute_result"
    }
   ],
   "source": [
    "df = pd.read_csv(\"../Src_Parsed/pubmed_parsed_class.csv\").dropna(subset=['AB'])\n",
    "df.head()"
   ]
  },
  {
   "cell_type": "code",
   "execution_count": 3,
   "id": "948d7791",
   "metadata": {
    "colab": {
     "base_uri": "https://localhost:8080/"
    },
    "id": "948d7791",
    "outputId": "cfb77350-d69f-432c-866b-7f925f0aa75f"
   },
   "outputs": [
    {
     "data": {
      "text/plain": [
       "(38754, 4)"
      ]
     },
     "execution_count": 3,
     "metadata": {},
     "output_type": "execute_result"
    }
   ],
   "source": [
    "df = df.drop_duplicates(subset=['PMID'],keep=\"last\")\n",
    "df.shape"
   ]
  },
  {
   "cell_type": "code",
   "execution_count": 4,
   "id": "1b57de6e",
   "metadata": {
    "colab": {
     "base_uri": "https://localhost:8080/"
    },
    "id": "1b57de6e",
    "outputId": "5fe0fb2f-620f-4c33-aded-d51f020981f2"
   },
   "outputs": [
    {
     "data": {
      "image/png": "[encoded data removed]",
      "text/plain": [
       "<Figure size 432x288 with 1 Axes>"
      ]
     },
     "metadata": {
      "needs_background": "light"
     },
     "output_type": "display_data"
    }
   ],
   "source": [
    "df['TY'].value_counts().plot.bar(color='orangered')\n",
    "plt.show()"
   ]
  },
  {
   "cell_type": "code",
   "execution_count": 5,
   "id": "0b3d0f6e",
   "metadata": {
    "id": "0b3d0f6e"
   },
   "outputs": [],
   "source": [
    "df['NTY'] = df['TY'].astype('category').cat.codes\n",
    "class_names = df['TY'].astype('category').cat.categories"
   ]
  },
  {
   "cell_type": "code",
   "execution_count": 6,
   "id": "0a162eae",
   "metadata": {
    "id": "0a162eae"
   },
   "outputs": [],
   "source": [
    "X,Y = df['AB'].values,df['NTY'].values"
   ]
  },
  {
   "cell_type": "markdown",
   "id": "17f17129",
   "metadata": {
    "id": "17f17129"
   },
   "source": [
    "---\n",
    "### Feature Extarction\n",
    "\n",
    "* Steamming or Lemmantization - `For fast process use stem else go with lemma`\n",
    "* stop words\n",
    "* characters\n",
    "* Bag of Words\n",
    "* TFIDF"
   ]
  },
  {
   "cell_type": "code",
   "execution_count": 7,
   "id": "943bbefa",
   "metadata": {},
   "outputs": [],
   "source": [
    "n_grams = (1,1)"
   ]
  },
  {
   "cell_type": "code",
   "execution_count": 8,
   "id": "484854ac",
   "metadata": {
    "id": "484854ac"
   },
   "outputs": [],
   "source": [
    "# Tokenize\n",
    "from nltk.tokenize import word_tokenize\n",
    "\n",
    "# Stemming\n",
    "from nltk.stem import SnowballStemmer\n",
    "snowball = SnowballStemmer(language='english')\n",
    "\n",
    "# Lemmatization\n",
    "from nltk.stem import WordNetLemmatizer\n",
    "wordnet = WordNetLemmatizer()\n",
    "\n",
    "# Stop Words\n",
    "from nltk.corpus import stopwords\n",
    "stop_words = stopwords.words('english')"
   ]
  },
  {
   "cell_type": "markdown",
   "id": "13b62f22",
   "metadata": {
    "id": "13b62f22"
   },
   "source": [
    "#### Normalize"
   ]
  },
  {
   "cell_type": "code",
   "execution_count": 9,
   "id": "9cd2457a",
   "metadata": {
    "id": "9cd2457a"
   },
   "outputs": [],
   "source": [
    "def normalize_sentence(sentence,action=\"STEM\"):\n",
    "    sen = sentence.lower()\n",
    "    sen = re.sub(r'[^a-z\\s]','',sen)\n",
    "    tokens = word_tokenize(sen)\n",
    "    tokens = [token for token in tokens if token not in stop_words]\n",
    "    tokens = [snowball.stem(token) if action == \"STEM\" else wordnet.lemmatize(token) for token in tokens]\n",
    "    return ' '.join(tokens)"
   ]
  },
  {
   "cell_type": "markdown",
   "id": "eb1e4920",
   "metadata": {
    "id": "eb1e4920"
   },
   "source": [
    "#### Bag of Words\n",
    "\n",
    "\n",
    "`fit` - Intialize Vacobaullary\\\n",
    "`transform` - get Sparse Matrix"
   ]
  },
  {
   "cell_type": "code",
   "execution_count": 10,
   "id": "626b1bb1",
   "metadata": {
    "id": "626b1bb1"
   },
   "outputs": [],
   "source": [
    "from sklearn.feature_extraction.text import CountVectorizer\n",
    "bow = CountVectorizer(ngram_range=n_grams)\n",
    "\n",
    "def implemnt_bow(x,isfit):\n",
    "    if isfit:\n",
    "        bow.fit(x)\n",
    "    arr = bow.transform(x)\n",
    "    return arr"
   ]
  },
  {
   "cell_type": "markdown",
   "id": "12f4b044",
   "metadata": {
    "id": "12f4b044"
   },
   "source": [
    "#### TF-IDF"
   ]
  },
  {
   "cell_type": "code",
   "execution_count": 11,
   "id": "5c9a5ef6",
   "metadata": {
    "id": "5c9a5ef6"
   },
   "outputs": [],
   "source": [
    "from sklearn.feature_extraction.text import TfidfVectorizer\n",
    "tfidf = TfidfVectorizer(ngram_range=n_grams)\n",
    "\n",
    "def implement_tfidf(x,isfit):\n",
    "    if isfit:\n",
    "        tfidf.fit(x)\n",
    "    arr = tfidf.transform(x)\n",
    "    return arr"
   ]
  },
  {
   "cell_type": "code",
   "execution_count": 12,
   "id": "4eede563",
   "metadata": {
    "id": "4eede563"
   },
   "outputs": [],
   "source": [
    "def get_features(x,feat_model=\"BOW\",pre_action=\"STEM\",isfit=False):\n",
    "    # Normalize\n",
    "    print(f'\\r ⏳ Normalizing',end=\"\")\n",
    "    normed = [normalize_sentence(i,pre_action) for i in x]\n",
    "    print(f'\\r ✅ Normalized      ')\n",
    "    \n",
    "    # Featurize\n",
    "    print(f'\\r ⏳ {feat_model}ing         ',end=\"\")\n",
    "    arr = implemnt_bow(normed,isfit) if feat_model == \"BOW\" else implement_tfidf(normed,isfit)\n",
    "    print(f'\\r ✅ {feat_model}          ')\n",
    "    return arr"
   ]
  },
  {
   "cell_type": "code",
   "execution_count": 13,
   "id": "436b8a9c",
   "metadata": {
    "colab": {
     "base_uri": "https://localhost:8080/"
    },
    "id": "436b8a9c",
    "outputId": "368b9f31-b645-436f-9603-ebff8c080024"
   },
   "outputs": [
    {
     "name": "stdout",
     "output_type": "stream",
     "text": [
      " ✅ Normalized      \n",
      " ✅ TFIDF            \n"
     ]
    }
   ],
   "source": [
    "arr = get_features(X,feat_model=\"TFIDF\",pre_action=\"LEMM\",isfit=True)"
   ]
  },
  {
   "cell_type": "markdown",
   "id": "516cfdd2",
   "metadata": {
    "id": "516cfdd2"
   },
   "source": [
    "---\n",
    "\n",
    "### Model"
   ]
  },
  {
   "cell_type": "code",
   "execution_count": 17,
   "id": "afc71111",
   "metadata": {
    "id": "afc71111"
   },
   "outputs": [],
   "source": [
    "from sklearn.model_selection import train_test_split\n",
    "\n",
    "x_train,x_test,y_train,y_test = train_test_split(arr,Y,test_size=0.3,shuffle=True)"
   ]
  },
  {
   "cell_type": "markdown",
   "id": "5d8f72ca",
   "metadata": {
    "id": "5d8f72ca"
   },
   "source": [
    "#### GridSearchCV\n",
    "\n",
    "For best hyperparameters"
   ]
  },
  {
   "cell_type": "code",
   "execution_count": 15,
   "id": "83565b5d",
   "metadata": {
    "id": "83565b5d"
   },
   "outputs": [],
   "source": [
    "from sklearn.model_selection import GridSearchCV\n",
    "\n",
    "def get_best_hyper_params(model,parameters,x,y):\n",
    "    # Model\n",
    "    gs = GridSearchCV(\n",
    "        estimator = model,\n",
    "        param_grid = parameters,\n",
    "        scoring = \"r2\",\n",
    "        refit = \"r2\",\n",
    "        cv=2,\n",
    "        verbose = 10\n",
    "    )\n",
    "    \n",
    "    gs.fit(x,y)\n",
    "    \n",
    "    return gs.best_params_,gs.best_score_,gs.best_estimator_"
   ]
  },
  {
   "cell_type": "markdown",
   "id": "8a40afc5",
   "metadata": {
    "id": "8a40afc5"
   },
   "source": [
    "#### StratifiedKFold \n",
    "\n",
    "For 5-Fold Training"
   ]
  },
  {
   "cell_type": "code",
   "execution_count": 16,
   "id": "c8578b4e",
   "metadata": {
    "id": "c8578b4e"
   },
   "outputs": [],
   "source": [
    "from sklearn.model_selection import StratifiedKFold\n",
    "\n",
    "def cross_validate_kfold(k,model,x,y):\n",
    "    acc_scores = []\n",
    "    \n",
    "    skf = StratifiedKFold(n_splits=k,shuffle=True)\n",
    "    count = 1\n",
    "    \n",
    "    for train,test in skf.split(x,y):\n",
    "        print(f'\\r⏳ Fold {count}',end=\"\")\n",
    "        model.fit(x[train],y[train])\n",
    "        score = model.score(x[test],y[test])\n",
    "        acc_scores.append(score)\n",
    "        print(f'\\r✅ Fold {count} - {round(score*100,2)} %')\n",
    "        count = count + 1\n",
    "    \n",
    "    return acc_scores"
   ]
  },
  {
   "cell_type": "markdown",
   "id": "7eb95389",
   "metadata": {
    "id": "7eb95389"
   },
   "source": [
    "----\n",
    "\n",
    "#### Naive Bayes"
   ]
  },
  {
   "cell_type": "code",
   "execution_count": 17,
   "id": "fa5e4058",
   "metadata": {
    "id": "fa5e4058"
   },
   "outputs": [],
   "source": [
    "from sklearn.naive_bayes import MultinomialNB\n",
    "\n",
    "mnbmodel = MultinomialNB()"
   ]
  },
  {
   "cell_type": "code",
   "execution_count": 18,
   "id": "d2f7d619",
   "metadata": {
    "id": "d2f7d619"
   },
   "outputs": [
    {
     "name": "stdout",
     "output_type": "stream",
     "text": [
      "✅ Fold 1 - 93.66 %\n",
      "✅ Fold 2 - 93.22 %\n",
      "✅ Fold 3 - 93.84 %\n",
      "✅ Fold 4 - 93.22 %\n",
      "✅ Fold 5 - 93.46 %\n",
      "Mean Score of Naive Bayes = 0.9347882477438378\n"
     ]
    }
   ],
   "source": [
    "# Train on 5-Fold\n",
    "navie_byes = cross_validate_kfold(5,mnbmodel,x_train,y_train)\n",
    "print(f'Mean Score of Naive Bayes = {(sum(navie_byes) / len(navie_byes))}')"
   ]
  },
  {
   "cell_type": "markdown",
   "id": "98d90670",
   "metadata": {},
   "source": [
    "####  K-Nearest Neighbors"
   ]
  },
  {
   "cell_type": "code",
   "execution_count": 19,
   "id": "dfef8e88",
   "metadata": {},
   "outputs": [],
   "source": [
    "from sklearn.neighbors import KNeighborsClassifier\n",
    "\n",
    "knn = KNeighborsClassifier(n_neighbors=len(class_names))"
   ]
  },
  {
   "cell_type": "code",
   "execution_count": 20,
   "id": "7182dc32",
   "metadata": {},
   "outputs": [
    {
     "name": "stdout",
     "output_type": "stream",
     "text": [
      "✅ Fold 1 - 89.64 %\n",
      "✅ Fold 2 - 89.55 %\n",
      "✅ Fold 3 - 89.27 %\n",
      "✅ Fold 4 - 89.68 %\n",
      "✅ Fold 5 - 89.84 %\n",
      "Mean Score of K-Nearest Neighbors = 0.8959708045067188\n"
     ]
    }
   ],
   "source": [
    "# Train on 5-Fold\n",
    "knn_scores = cross_validate_kfold(5,knn,x_train,y_train)\n",
    "print(f'Mean Score of K-Nearest Neighbors = {(sum(knn_scores) / len(knn_scores))}')"
   ]
  },
  {
   "cell_type": "markdown",
   "id": "7d501828",
   "metadata": {
    "id": "7d501828"
   },
   "source": [
    "#### Decision tree"
   ]
  },
  {
   "cell_type": "code",
   "execution_count": 21,
   "id": "313a5c95",
   "metadata": {
    "id": "313a5c95"
   },
   "outputs": [],
   "source": [
    "from sklearn.tree import DecisionTreeClassifier\n",
    "\n",
    "dtmodel = DecisionTreeClassifier()"
   ]
  },
  {
   "cell_type": "code",
   "execution_count": 22,
   "id": "90325ad4",
   "metadata": {},
   "outputs": [
    {
     "name": "stdout",
     "output_type": "stream",
     "text": [
      "✅ Fold 1 - 95.39 %\n",
      "✅ Fold 2 - 95.08 %\n",
      "✅ Fold 3 - 95.28 %\n",
      "✅ Fold 4 - 95.21 %\n",
      "✅ Fold 5 - 95.58 %\n",
      "Mean Score of Descision Tree = 0.9530726371235272\n"
     ]
    }
   ],
   "source": [
    "# Train on 5-Fold\n",
    "desicion_tree = cross_validate_kfold(5,dtmodel,x_train,y_train)\n",
    "print(f'Mean Score of Descision Tree = {sum(desicion_tree) / len(desicion_tree)}')"
   ]
  },
  {
   "cell_type": "markdown",
   "id": "1d68b46a",
   "metadata": {
    "id": "1d68b46a"
   },
   "source": [
    "#### Random Forest"
   ]
  },
  {
   "cell_type": "code",
   "execution_count": 23,
   "id": "b1f0f74b",
   "metadata": {
    "id": "b1f0f74b"
   },
   "outputs": [],
   "source": [
    "from sklearn.ensemble import RandomForestClassifier\n",
    "\n",
    "rf_hyper_parms = { \n",
    "    \"n_estimators\":[10,20,30,40,50] ### For best Hyper Parametres\n",
    "}"
   ]
  },
  {
   "cell_type": "code",
   "execution_count": null,
   "id": "3dc1f41c",
   "metadata": {
    "id": "bbb37887"
   },
   "outputs": [],
   "source": [
    "# [✔️ Exceuted] For best Hyper Parametres\n",
    "# This cell takes nearly a 1.5 hours time for excution as it has to run the brute force on parameters,we have already excuted found the best hyper parametres\n",
    "\n",
    "rf_opt_parms,rf_best_score,rfmodel = get_best_hyper_params(RandomForestClassifier(),rf_hyper_parms,x_train,y_train)\n",
    "print(f'Top Score - {rf_best_score}')\n",
    "print(f'Best Parametres \\n {rf_opt_parms}')"
   ]
  },
  {
   "cell_type": "code",
   "execution_count": 24,
   "id": "c7125ae7",
   "metadata": {
    "id": "c7125ae7"
   },
   "outputs": [],
   "source": [
    "# No need to run whole best hyparn_estimators\n",
    "\n",
    "rfmodel = RandomForestClassifier(n_estimators=50)"
   ]
  },
  {
   "cell_type": "code",
   "execution_count": 25,
   "id": "dc629074",
   "metadata": {
    "scrolled": true
   },
   "outputs": [
    {
     "name": "stdout",
     "output_type": "stream",
     "text": [
      "✅ Fold 1 - 94.75 %\n",
      "✅ Fold 2 - 94.99 %\n",
      "✅ Fold 3 - 95.39 %\n",
      "✅ Fold 4 - 95.13 %\n",
      "✅ Fold 5 - 95.23 %\n",
      "Mean Score of Random Forest = 0.9509715264106428\n"
     ]
    }
   ],
   "source": [
    "# Random Forest\n",
    "random_forest = cross_validate_kfold(5,rfmodel,x_train,y_train)\n",
    "print(f'Mean Score of Random Forest = {sum(random_forest) / len(random_forest)}')"
   ]
  },
  {
   "cell_type": "markdown",
   "id": "3adade50",
   "metadata": {
    "id": "3adade50"
   },
   "source": [
    "#### SVM"
   ]
  },
  {
   "cell_type": "code",
   "execution_count": 26,
   "id": "2d0c1ec3",
   "metadata": {
    "id": "2d0c1ec3"
   },
   "outputs": [],
   "source": [
    "from sklearn.svm import SVC\n",
    "\n",
    "svm_hyper_parms = {\n",
    "    \"C\": [0.1,1,10,100,1000],\n",
    "    \"gamma\": [1,0.1,0.01,0.001,0.0001],\n",
    "    \"kernel\": ['linear', 'poly', 'rbf', 'sigmoid'],\n",
    "    \"degree\": [0.1,1,3,5]\n",
    "}"
   ]
  },
  {
   "cell_type": "code",
   "execution_count": 28,
   "id": "b0043743",
   "metadata": {
    "id": "b0043743"
   },
   "outputs": [],
   "source": [
    "# [✔️ Exceuted] For best Hyper Parametres\n",
    "# # This cell takes nearly a 5-7 hours time for excution as it has to run the brute force on parameters,we have already excuted found the best hyper parametres\n",
    "\n",
    "svm_opt_parms,svm_best_score,svmmodel = get_best_hyper_params(SVC(),svm_hyper_parms,x_train,y_train)\n",
    "print(f'Top Score - {svm_best_score}')\n",
    "print(f'Best Parametres \\n {svm_opt_parms}')"
   ]
  },
  {
   "cell_type": "code",
   "execution_count": 27,
   "id": "77fca883",
   "metadata": {
    "id": "77fca883"
   },
   "outputs": [],
   "source": [
    "# No need to run whole best hyparms\n",
    "svmmodel = SVC(\n",
    "    C=10,\n",
    "    gamma=0.1,\n",
    "    kernel='rbf',\n",
    "    degree=3\n",
    ")"
   ]
  },
  {
   "cell_type": "code",
   "execution_count": 28,
   "id": "85fb5371",
   "metadata": {},
   "outputs": [
    {
     "name": "stdout",
     "output_type": "stream",
     "text": [
      "✅ Fold 1 - 97.35 %\n",
      "✅ Fold 2 - 97.6 %\n",
      "✅ Fold 3 - 97.25 %\n",
      "✅ Fold 4 - 97.24 %\n",
      "✅ Fold 5 - 97.12 %\n",
      "Mean Score of SVM(Support Vector Machine) = 0.9731262856259585\n"
     ]
    }
   ],
   "source": [
    "# Train on 5-Fold\n",
    "svm_scores = cross_validate_kfold(5,svmmodel,x_train,y_train)\n",
    "print(f'Mean Score of SVM(Support Vector Machine) = {sum(svm_scores) / len(svm_scores)}')"
   ]
  },
  {
   "cell_type": "markdown",
   "id": "9ce9cab1",
   "metadata": {},
   "source": [
    "---\n",
    "\n",
    "||Model|Accuracy|\n",
    "|:-|:-|:-|\n",
    "|❌|Naive Bayes|`0.9347882477438378`|\n",
    "|❌|K-Nearest Neighbors|`0.8959708045067188`|\n",
    "|❌|Decision tree|`0.9530726371235272`|\n",
    "|❌|Random Forest|`0.9509715264106428`|\n",
    "|✅|Support Vector Machine(SVM)|`0.9731262856259585`|\n",
    "\n",
    "\n",
    "As the SVM model has the highest accuracy score among the other model we are using **SVM** as our final model"
   ]
  },
  {
   "cell_type": "markdown",
   "id": "bbad8114",
   "metadata": {},
   "source": [
    "### Final Model - SVM\n",
    "\n",
    "TF-IDF\n",
    "LEMMATION\n"
   ]
  },
  {
   "cell_type": "code",
   "execution_count": 29,
   "id": "7d1cbef3",
   "metadata": {},
   "outputs": [
    {
     "name": "stdout",
     "output_type": "stream",
     "text": [
      "Wall time: 2min 51s\n"
     ]
    },
    {
     "data": {
      "text/plain": [
       "SVC(C=10, gamma=0.1)"
      ]
     },
     "execution_count": 29,
     "metadata": {},
     "output_type": "execute_result"
    }
   ],
   "source": [
    "%%time\n",
    "# Refit Model on Compltet Train data\n",
    "\n",
    "svmmodel.fit(x_train,y_train)"
   ]
  },
  {
   "cell_type": "code",
   "execution_count": 14,
   "id": "f3b83599",
   "metadata": {},
   "outputs": [],
   "source": [
    "import pickle\n",
    "\n",
    "Save Model\n",
    "with open('../Trained Models/svm.pkl','wb') as f:\n",
    "    pickle.dump(svmmodel,f)\n",
    "\n",
    "\n",
    "# Load Model\n",
    "# svmmodel = None\n",
    "# with open('../Trained Models/svm.pkl','rb') as f:\n",
    "#     svmmodel = pickle.load(f)"
   ]
  },
  {
   "cell_type": "code",
   "execution_count": 15,
   "id": "17ee195d",
   "metadata": {},
   "outputs": [
    {
     "data": {
      "text/plain": [
       "SVC(C=10, gamma=0.1)"
      ]
     },
     "execution_count": 15,
     "metadata": {},
     "output_type": "execute_result"
    }
   ],
   "source": [
    "svmmodel"
   ]
  },
  {
   "cell_type": "code",
   "execution_count": 18,
   "id": "d56668c0",
   "metadata": {},
   "outputs": [],
   "source": [
    "%%time\n",
    "# predictions on test data\n",
    "\n",
    "predicted_y = svmmodel.predict(x_test)"
   ]
  },
  {
   "cell_type": "code",
   "execution_count": 19,
   "id": "ef4443c7",
   "metadata": {},
   "outputs": [
    {
     "name": "stdout",
     "output_type": "stream",
     "text": [
      "              precision    recall  f1-score   support\n",
      "\n",
      "      CANCER       0.99      1.00      1.00      2640\n",
      "       COVID       0.99      0.98      0.99      2128\n",
      "      GENOME       0.99      0.99      0.99      2763\n",
      "     VACCINE       0.98      0.99      0.99      1960\n",
      "       VIRUS       0.99      0.99      0.99      2136\n",
      "\n",
      "    accuracy                           0.99     11627\n",
      "   macro avg       0.99      0.99      0.99     11627\n",
      "weighted avg       0.99      0.99      0.99     11627\n",
      "\n"
     ]
    }
   ],
   "source": [
    "from sklearn.metrics import classification_report\n",
    "\n",
    "report_data = classification_report(y_test,predicted_y,output_dict=True,target_names=class_names)\n",
    "report_data_str = classification_report(y_test,predicted_y,target_names=class_names)\n",
    "print(report_data_str)"
   ]
  },
  {
   "cell_type": "code",
   "execution_count": 20,
   "id": "88b6c8d8",
   "metadata": {},
   "outputs": [],
   "source": [
    "def get_f1_recall_precision(report,classes_of_data):\n",
    "    p,f,r = [],[],[]\n",
    "    for c in classes_of_data:\n",
    "        p.append(report[c]['precision'])\n",
    "        f.append(report[c]['f1-score'])\n",
    "        r.append(report[c]['recall'])\n",
    "        \n",
    "    return f,r,p"
   ]
  },
  {
   "cell_type": "code",
   "execution_count": 21,
   "id": "0dfbffcb",
   "metadata": {},
   "outputs": [
    {
     "name": "stdout",
     "output_type": "stream",
     "text": [
      "F1 Score  = 0.9899644082799984\n",
      "Recall    = 0.9899937223398115\n",
      "Precision = 0.9899385471154896\n",
      "Accuracy  = 0.9904532553539176\n"
     ]
    }
   ],
   "source": [
    "avg_f1_score,avg_recall,avg_precision = get_f1_recall_precision(report_data,class_names)\n",
    "print(f\"F1 Score  = {sum(avg_f1_score) / len(avg_f1_score)}\")\n",
    "print(f\"Recall    = {sum(avg_recall) / len(avg_recall)}\")\n",
    "print(f\"Precision = {sum(avg_precision) / len(avg_precision)}\")\n",
    "print(f\"Accuracy  = {report_data['accuracy']}\")"
   ]
  },
  {
   "cell_type": "markdown",
   "id": "2b68238d",
   "metadata": {},
   "source": [
    "#### Predict Abstracts Class"
   ]
  },
  {
   "cell_type": "code",
   "execution_count": 22,
   "id": "15284400",
   "metadata": {},
   "outputs": [],
   "source": [
    "def predict_abstract_class(model,abstracts):\n",
    "    arr = get_features(abstracts,feat_model=\"TFIDF\",pre_action=\"LEMM\",isfit=False) # We need to make sure this is same as trainging our model\n",
    "    print('\\r ⏳ Predicting...',end=\"\")\n",
    "    predicted_labels = model.predict(arr)\n",
    "    print(f'\\r ✅ Predicted.')\n",
    "    return [class_names[i] for i in predicted_labels]"
   ]
  },
  {
   "cell_type": "code",
   "execution_count": 25,
   "id": "53d1f285",
   "metadata": {},
   "outputs": [
    {
     "name": "stdout",
     "output_type": "stream",
     "text": [
      " ✅ Normalized      \n",
      " ✅ TFIDF            \n",
      " ✅ Predicted....\n",
      "Wall time: 238 ms\n"
     ]
    },
    {
     "data": {
      "text/plain": [
       "['CANCER', 'GENOME', 'VIRUS']"
      ]
     },
     "execution_count": 25,
     "metadata": {},
     "output_type": "execute_result"
    }
   ],
   "source": [
    "%%time\n",
    "\n",
    "predict_abstract_class(svmmodel,[\n",
    "    \"This essay focuses on themes in Explaining Cancer: Finding Order in Disorder (2018) by Anya Plutynski, a monograph that has important things to say about both the peculiarities of cancers and our theories about them. Cancer's agents of destruction are human cells that have been recruited and to some extent transformed into pathological organisms or the building blocks of tumors. Cancers both undermine and exploit mechanisms of multicellular organization, and understanding them gives rise to difficult philosophical problems. In addition to sketching Plutynski's discussion of these problems, this essay defends Christopher Boorse's account of disease from Plutynski's criticisms, and it expresses some qualms about her treatment of scientific explanation.\",\n",
    "    \"In the fields of molecular biology and genetics, a genome is all genetic information of an organism. It consists of nucleotide sequences of DNA. The genome includes both the genes and the noncoding DNA, as well as mitochondrial DNA and chloroplast DNA. The study of the genome is called genomics\",\n",
    "    \"submicroscopic infectious agent that replicates only inside the living cells of an organism. Viruses infect all life forms, from animals and plants to microorganisms, including bacteria and archaea\"\n",
    "])"
   ]
  }
 ],
 "metadata": {
  "colab": {
   "collapsed_sections": [],
   "name": "Classification.ipynb",
   "provenance": []
  },
  "kernelspec": {
   "display_name": "Python 3 (ipykernel)",
   "language": "python",
   "name": "python3"
  },
  "language_info": {
   "codemirror_mode": {
    "name": "ipython",
    "version": 3
   },
   "file_extension": ".py",
   "mimetype": "text/x-python",
   "name": "python",
   "nbconvert_exporter": "python",
   "pygments_lexer": "ipython3",
   "version": "3.9.7"
  }
 },
 "nbformat": 4,
 "nbformat_minor": 5
}
