{
 "cells": [
  {
   "cell_type": "code",
   "execution_count": 3,
   "id": "8951c3c4",
   "metadata": {},
   "outputs": [],
   "source": [
    "import pandas as pd\n",
    "import os"
   ]
  },
  {
   "cell_type": "code",
   "execution_count": 7,
   "id": "e48b5e90",
   "metadata": {},
   "outputs": [],
   "source": [
    "file_base = \"../Src_Parsed/\"\n",
    "file_names = os.listdir(file_base)\n",
    "class_names = [\n",
    "    \"CANCER\",\n",
    "    \"COVID\",\n",
    "    'GENOME',\n",
    "    \"VACCINE\",\n",
    "    \"VIRUS\"\n",
    "]"
   ]
  },
  {
   "cell_type": "code",
   "execution_count": 13,
   "id": "c87911a4",
   "metadata": {},
   "outputs": [
    {
     "name": "stderr",
     "output_type": "stream",
     "text": [
      "G:\\KLUEDU\\Text Mining\\Python Notebooks\\env\\lib\\site-packages\\IPython\\core\\interactiveshell.py:3441: DtypeWarning: Columns (45,47,48,56,59,60,61,62,63) have mixed types.Specify dtype option on import or set low_memory=False.\n",
      "  exec(code_obj, self.user_global_ns, self.user_ns)\n",
      "G:\\KLUEDU\\Text Mining\\Python Notebooks\\env\\lib\\site-packages\\IPython\\core\\interactiveshell.py:3441: DtypeWarning: Columns (58,59,60,61,62,63) have mixed types.Specify dtype option on import or set low_memory=False.\n",
      "  exec(code_obj, self.user_global_ns, self.user_ns)\n",
      "G:\\KLUEDU\\Text Mining\\Python Notebooks\\env\\lib\\site-packages\\IPython\\core\\interactiveshell.py:3441: DtypeWarning: Columns (47,48,56,57,59,61) have mixed types.Specify dtype option on import or set low_memory=False.\n",
      "  exec(code_obj, self.user_global_ns, self.user_ns)\n"
     ]
    }
   ],
   "source": [
    "df = pd.DataFrame()\n",
    "for file_name,class_name in zip(file_names,class_names):\n",
    "    crr_df = pd.read_csv(file_base+file_name)[['PMID','TI','AB']]\n",
    "    crr_df['TY'] = class_name\n",
    "    df = df.append(crr_df)"
   ]
  },
  {
   "cell_type": "code",
   "execution_count": 17,
   "id": "19b60994",
   "metadata": {},
   "outputs": [],
   "source": [
    "df.to_csv(file_base+\"pubmed_parsed_class.csv\",index=False)"
   ]
  },
  {
   "cell_type": "code",
   "execution_count": 18,
   "id": "5b797740",
   "metadata": {},
   "outputs": [
    {
     "name": "stdout",
     "output_type": "stream",
     "text": [
      "<class 'pandas.core.frame.DataFrame'>\n",
      "Int64Index: 50000 entries, 0 to 9999\n",
      "Data columns (total 4 columns):\n",
      " #   Column  Non-Null Count  Dtype \n",
      "---  ------  --------------  ----- \n",
      " 0   PMID    50000 non-null  int64 \n",
      " 1   TI      50000 non-null  object\n",
      " 2   AB      39007 non-null  object\n",
      " 3   TY      50000 non-null  object\n",
      "dtypes: int64(1), object(3)\n",
      "memory usage: 1.9+ MB\n"
     ]
    }
   ],
   "source": [
    "df.info()"
   ]
  }
 ],
 "metadata": {
  "kernelspec": {
   "display_name": "Python 3 (ipykernel)",
   "language": "python",
   "name": "python3"
  },
  "language_info": {
   "codemirror_mode": {
    "name": "ipython",
    "version": 3
   },
   "file_extension": ".py",
   "mimetype": "text/x-python",
   "name": "python",
   "nbconvert_exporter": "python",
   "pygments_lexer": "ipython3",
   "version": "3.9.7"
  }
 },
 "nbformat": 4,
 "nbformat_minor": 5
}
